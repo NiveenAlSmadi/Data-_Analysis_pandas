{
 "cells": [
  {
   "cell_type": "markdown",
   "id": "b14dd5b2-de5d-4313-9ba2-c998a3996e43",
   "metadata": {},
   "source": [
    "# Data Analysis with Pandas"
   ]
  },
  {
   "cell_type": "markdown",
   "id": "f39bcc6d-650b-4a86-87ee-08c262b84500",
   "metadata": {},
   "source": [
    "## Part2\n",
    "\n",
    "### Data Set Name : Cycle Share Data set - Bicycle Trip Data from Seattle’s Cycle Share System\n",
    "\n",
    "### Author: Niveen Alsmadi \n",
    "\n",
    "### Date: 21-June-2021"
   ]
  },
  {
   "cell_type": "markdown",
   "id": "b41db6c9-30f7-4d82-9ac6-6d33018784e0",
   "metadata": {},
   "source": [
    "_________________________________________________________________________________________________________________________"
   ]
  },
  {
   "cell_type": "code",
   "execution_count": 30,
   "id": "364942f9-1011-4c4d-9c0b-e2b6f6858fc8",
   "metadata": {},
   "outputs": [],
   "source": [
    "import pandas as pd\n",
    "import numpy as np"
   ]
  },
  {
   "cell_type": "code",
   "execution_count": 66,
   "id": "3ce4c955-9047-4811-a16b-caf628505c1a",
   "metadata": {},
   "outputs": [
    {
     "name": "stderr",
     "output_type": "stream",
     "text": [
      "b'Skipping line 50794: expected 12 fields, saw 20\\n'\n"
     ]
    },
    {
     "data": {
      "text/html": [
       "<div>\n",
       "<style scoped>\n",
       "    .dataframe tbody tr th:only-of-type {\n",
       "        vertical-align: middle;\n",
       "    }\n",
       "\n",
       "    .dataframe tbody tr th {\n",
       "        vertical-align: top;\n",
       "    }\n",
       "\n",
       "    .dataframe thead th {\n",
       "        text-align: right;\n",
       "    }\n",
       "</style>\n",
       "<table border=\"1\" class=\"dataframe\">\n",
       "  <thead>\n",
       "    <tr style=\"text-align: right;\">\n",
       "      <th></th>\n",
       "      <th>trip_id</th>\n",
       "      <th>starttime</th>\n",
       "      <th>stoptime</th>\n",
       "      <th>bikeid</th>\n",
       "      <th>tripduration</th>\n",
       "      <th>from_station_name</th>\n",
       "      <th>to_station_name</th>\n",
       "      <th>from_station_id</th>\n",
       "      <th>to_station_id</th>\n",
       "      <th>usertype</th>\n",
       "      <th>gender</th>\n",
       "      <th>birthyear</th>\n",
       "    </tr>\n",
       "  </thead>\n",
       "  <tbody>\n",
       "    <tr>\n",
       "      <th>0</th>\n",
       "      <td>431</td>\n",
       "      <td>10/13/2014 10:31</td>\n",
       "      <td>10/13/2014 10:48</td>\n",
       "      <td>SEA00298</td>\n",
       "      <td>985.935</td>\n",
       "      <td>2nd Ave &amp; Spring St</td>\n",
       "      <td>Occidental Park / Occidental Ave S &amp; S Washing...</td>\n",
       "      <td>CBD-06</td>\n",
       "      <td>PS-04</td>\n",
       "      <td>Member</td>\n",
       "      <td>Male</td>\n",
       "      <td>1960.0</td>\n",
       "    </tr>\n",
       "    <tr>\n",
       "      <th>1</th>\n",
       "      <td>432</td>\n",
       "      <td>10/13/2014 10:32</td>\n",
       "      <td>10/13/2014 10:48</td>\n",
       "      <td>SEA00195</td>\n",
       "      <td>926.375</td>\n",
       "      <td>2nd Ave &amp; Spring St</td>\n",
       "      <td>Occidental Park / Occidental Ave S &amp; S Washing...</td>\n",
       "      <td>CBD-06</td>\n",
       "      <td>PS-04</td>\n",
       "      <td>Member</td>\n",
       "      <td>Male</td>\n",
       "      <td>1970.0</td>\n",
       "    </tr>\n",
       "    <tr>\n",
       "      <th>2</th>\n",
       "      <td>433</td>\n",
       "      <td>10/13/2014 10:33</td>\n",
       "      <td>10/13/2014 10:48</td>\n",
       "      <td>SEA00486</td>\n",
       "      <td>883.831</td>\n",
       "      <td>2nd Ave &amp; Spring St</td>\n",
       "      <td>Occidental Park / Occidental Ave S &amp; S Washing...</td>\n",
       "      <td>CBD-06</td>\n",
       "      <td>PS-04</td>\n",
       "      <td>Member</td>\n",
       "      <td>Female</td>\n",
       "      <td>1988.0</td>\n",
       "    </tr>\n",
       "    <tr>\n",
       "      <th>3</th>\n",
       "      <td>434</td>\n",
       "      <td>10/13/2014 10:34</td>\n",
       "      <td>10/13/2014 10:48</td>\n",
       "      <td>SEA00333</td>\n",
       "      <td>865.937</td>\n",
       "      <td>2nd Ave &amp; Spring St</td>\n",
       "      <td>Occidental Park / Occidental Ave S &amp; S Washing...</td>\n",
       "      <td>CBD-06</td>\n",
       "      <td>PS-04</td>\n",
       "      <td>Member</td>\n",
       "      <td>Female</td>\n",
       "      <td>1977.0</td>\n",
       "    </tr>\n",
       "    <tr>\n",
       "      <th>4</th>\n",
       "      <td>435</td>\n",
       "      <td>10/13/2014 10:34</td>\n",
       "      <td>10/13/2014 10:49</td>\n",
       "      <td>SEA00202</td>\n",
       "      <td>923.923</td>\n",
       "      <td>2nd Ave &amp; Spring St</td>\n",
       "      <td>Occidental Park / Occidental Ave S &amp; S Washing...</td>\n",
       "      <td>CBD-06</td>\n",
       "      <td>PS-04</td>\n",
       "      <td>Member</td>\n",
       "      <td>Male</td>\n",
       "      <td>1971.0</td>\n",
       "    </tr>\n",
       "    <tr>\n",
       "      <th>...</th>\n",
       "      <td>...</td>\n",
       "      <td>...</td>\n",
       "      <td>...</td>\n",
       "      <td>...</td>\n",
       "      <td>...</td>\n",
       "      <td>...</td>\n",
       "      <td>...</td>\n",
       "      <td>...</td>\n",
       "      <td>...</td>\n",
       "      <td>...</td>\n",
       "      <td>...</td>\n",
       "      <td>...</td>\n",
       "    </tr>\n",
       "    <tr>\n",
       "      <th>286852</th>\n",
       "      <td>255241</td>\n",
       "      <td>8/31/2016 23:34</td>\n",
       "      <td>8/31/2016 23:45</td>\n",
       "      <td>SEA00201</td>\n",
       "      <td>679.532</td>\n",
       "      <td>Harvard Ave &amp; E Pine St</td>\n",
       "      <td>2nd Ave &amp; Spring St</td>\n",
       "      <td>CH-09</td>\n",
       "      <td>CBD-06</td>\n",
       "      <td>Short-Term Pass Holder</td>\n",
       "      <td>NaN</td>\n",
       "      <td>NaN</td>\n",
       "    </tr>\n",
       "    <tr>\n",
       "      <th>286853</th>\n",
       "      <td>255242</td>\n",
       "      <td>8/31/2016 23:48</td>\n",
       "      <td>9/1/2016 0:20</td>\n",
       "      <td>SEA00247</td>\n",
       "      <td>1965.418</td>\n",
       "      <td>Cal Anderson Park / 11th Ave &amp; Pine St</td>\n",
       "      <td>6th Ave S &amp; S King St</td>\n",
       "      <td>CH-08</td>\n",
       "      <td>ID-04</td>\n",
       "      <td>Short-Term Pass Holder</td>\n",
       "      <td>NaN</td>\n",
       "      <td>NaN</td>\n",
       "    </tr>\n",
       "    <tr>\n",
       "      <th>286854</th>\n",
       "      <td>255243</td>\n",
       "      <td>8/31/2016 23:47</td>\n",
       "      <td>9/1/2016 0:20</td>\n",
       "      <td>SEA00300</td>\n",
       "      <td>1951.173</td>\n",
       "      <td>Cal Anderson Park / 11th Ave &amp; Pine St</td>\n",
       "      <td>6th Ave S &amp; S King St</td>\n",
       "      <td>CH-08</td>\n",
       "      <td>ID-04</td>\n",
       "      <td>Short-Term Pass Holder</td>\n",
       "      <td>NaN</td>\n",
       "      <td>NaN</td>\n",
       "    </tr>\n",
       "    <tr>\n",
       "      <th>286855</th>\n",
       "      <td>255244</td>\n",
       "      <td>8/31/2016 23:49</td>\n",
       "      <td>9/1/2016 0:20</td>\n",
       "      <td>SEA00047</td>\n",
       "      <td>1883.299</td>\n",
       "      <td>Cal Anderson Park / 11th Ave &amp; Pine St</td>\n",
       "      <td>6th Ave S &amp; S King St</td>\n",
       "      <td>CH-08</td>\n",
       "      <td>ID-04</td>\n",
       "      <td>Short-Term Pass Holder</td>\n",
       "      <td>NaN</td>\n",
       "      <td>NaN</td>\n",
       "    </tr>\n",
       "    <tr>\n",
       "      <th>286856</th>\n",
       "      <td>255245</td>\n",
       "      <td>8/31/2016 23:49</td>\n",
       "      <td>9/1/2016 0:20</td>\n",
       "      <td>SEA00442</td>\n",
       "      <td>1896.031</td>\n",
       "      <td>Cal Anderson Park / 11th Ave &amp; Pine St</td>\n",
       "      <td>6th Ave S &amp; S King St</td>\n",
       "      <td>CH-08</td>\n",
       "      <td>ID-04</td>\n",
       "      <td>Short-Term Pass Holder</td>\n",
       "      <td>NaN</td>\n",
       "      <td>NaN</td>\n",
       "    </tr>\n",
       "  </tbody>\n",
       "</table>\n",
       "<p>286857 rows × 12 columns</p>\n",
       "</div>"
      ],
      "text/plain": [
       "        trip_id         starttime          stoptime    bikeid  tripduration  \\\n",
       "0           431  10/13/2014 10:31  10/13/2014 10:48  SEA00298       985.935   \n",
       "1           432  10/13/2014 10:32  10/13/2014 10:48  SEA00195       926.375   \n",
       "2           433  10/13/2014 10:33  10/13/2014 10:48  SEA00486       883.831   \n",
       "3           434  10/13/2014 10:34  10/13/2014 10:48  SEA00333       865.937   \n",
       "4           435  10/13/2014 10:34  10/13/2014 10:49  SEA00202       923.923   \n",
       "...         ...               ...               ...       ...           ...   \n",
       "286852   255241   8/31/2016 23:34   8/31/2016 23:45  SEA00201       679.532   \n",
       "286853   255242   8/31/2016 23:48     9/1/2016 0:20  SEA00247      1965.418   \n",
       "286854   255243   8/31/2016 23:47     9/1/2016 0:20  SEA00300      1951.173   \n",
       "286855   255244   8/31/2016 23:49     9/1/2016 0:20  SEA00047      1883.299   \n",
       "286856   255245   8/31/2016 23:49     9/1/2016 0:20  SEA00442      1896.031   \n",
       "\n",
       "                             from_station_name  \\\n",
       "0                          2nd Ave & Spring St   \n",
       "1                          2nd Ave & Spring St   \n",
       "2                          2nd Ave & Spring St   \n",
       "3                          2nd Ave & Spring St   \n",
       "4                          2nd Ave & Spring St   \n",
       "...                                        ...   \n",
       "286852                 Harvard Ave & E Pine St   \n",
       "286853  Cal Anderson Park / 11th Ave & Pine St   \n",
       "286854  Cal Anderson Park / 11th Ave & Pine St   \n",
       "286855  Cal Anderson Park / 11th Ave & Pine St   \n",
       "286856  Cal Anderson Park / 11th Ave & Pine St   \n",
       "\n",
       "                                          to_station_name from_station_id  \\\n",
       "0       Occidental Park / Occidental Ave S & S Washing...          CBD-06   \n",
       "1       Occidental Park / Occidental Ave S & S Washing...          CBD-06   \n",
       "2       Occidental Park / Occidental Ave S & S Washing...          CBD-06   \n",
       "3       Occidental Park / Occidental Ave S & S Washing...          CBD-06   \n",
       "4       Occidental Park / Occidental Ave S & S Washing...          CBD-06   \n",
       "...                                                   ...             ...   \n",
       "286852                                2nd Ave & Spring St           CH-09   \n",
       "286853                              6th Ave S & S King St           CH-08   \n",
       "286854                              6th Ave S & S King St           CH-08   \n",
       "286855                              6th Ave S & S King St           CH-08   \n",
       "286856                              6th Ave S & S King St           CH-08   \n",
       "\n",
       "       to_station_id                usertype  gender  birthyear  \n",
       "0              PS-04                  Member    Male     1960.0  \n",
       "1              PS-04                  Member    Male     1970.0  \n",
       "2              PS-04                  Member  Female     1988.0  \n",
       "3              PS-04                  Member  Female     1977.0  \n",
       "4              PS-04                  Member    Male     1971.0  \n",
       "...              ...                     ...     ...        ...  \n",
       "286852        CBD-06  Short-Term Pass Holder     NaN        NaN  \n",
       "286853         ID-04  Short-Term Pass Holder     NaN        NaN  \n",
       "286854         ID-04  Short-Term Pass Holder     NaN        NaN  \n",
       "286855         ID-04  Short-Term Pass Holder     NaN        NaN  \n",
       "286856         ID-04  Short-Term Pass Holder     NaN        NaN  \n",
       "\n",
       "[286857 rows x 12 columns]"
      ]
     },
     "execution_count": 66,
     "metadata": {},
     "output_type": "execute_result"
    }
   ],
   "source": [
    "data_stations = pd.read_csv('./station.csv')\n",
    "data_trip = pd.read_csv('./trip.csv',error_bad_lines=False )\n",
    "data_weather = pd.read_csv('./weather.csv')\n",
    "\n",
    "data_trip\n"
   ]
  },
  {
   "cell_type": "markdown",
   "id": "cbc58e8b-e895-4360-99fb-2ce7710fc0ba",
   "metadata": {},
   "source": [
    "###  Q1:What is the average trip duration for a borrowed bicycle?"
   ]
  },
  {
   "cell_type": "code",
   "execution_count": 32,
   "id": "f3d1a8df-e94a-48be-999b-e61d7144d9b2",
   "metadata": {},
   "outputs": [
    {
     "data": {
      "text/plain": [
       "1178.2956753399776"
      ]
     },
     "execution_count": 32,
     "metadata": {},
     "output_type": "execute_result"
    }
   ],
   "source": [
    "average_trip=data_trip['tripduration'].mean()\n",
    "average_trip"
   ]
  },
  {
   "cell_type": "markdown",
   "id": "3366b74e-9962-417a-b0a5-2551cf2816ee",
   "metadata": {},
   "source": [
    "### Q2:What’s the most common age of a bicycle-sharer?"
   ]
  },
  {
   "cell_type": "code",
   "execution_count": 76,
   "id": "29e93e8b-4aa1-4105-8e9d-87d6342f9847",
   "metadata": {},
   "outputs": [
    {
     "data": {
      "text/plain": [
       "34.0"
      ]
     },
     "execution_count": 76,
     "metadata": {},
     "output_type": "execute_result"
    }
   ],
   "source": [
    "most_common_age=data_trip['birthyear'].mode()[0]\n",
    "n= 2021-most_common_age \n",
    "n # 33 for 2020"
   ]
  },
  {
   "cell_type": "markdown",
   "id": "99297f1c-0dfb-4c17-8072-b426d50dfd00",
   "metadata": {},
   "source": [
    "### Q3:Given all the weather data here, find the average precipitation per month, and the median precipitation?"
   ]
  },
  {
   "cell_type": "code",
   "execution_count": 39,
   "id": "c26358dc-9392-49a3-9432-83e25404fd86",
   "metadata": {},
   "outputs": [
    {
     "data": {
      "text/plain": [
       "(Date\n",
       " 1     0.143548\n",
       " 2     0.168421\n",
       " 3     0.156935\n",
       " 4     0.051333\n",
       " 5     0.012419\n",
       " 6     0.030500\n",
       " 7     0.012097\n",
       " 8     0.018226\n",
       " 9     0.041000\n",
       " 10    0.189000\n",
       " 11    0.187833\n",
       " 12    0.236290\n",
       " Name: Precipitation_In, dtype: float64,\n",
       " Date\n",
       " 1     0.020\n",
       " 2     0.040\n",
       " 3     0.025\n",
       " 4     0.000\n",
       " 5     0.000\n",
       " 6     0.000\n",
       " 7     0.000\n",
       " 8     0.000\n",
       " 9     0.000\n",
       " 10    0.040\n",
       " 11    0.035\n",
       " 12    0.100\n",
       " Name: Precipitation_In, dtype: float64)"
      ]
     },
     "execution_count": 39,
     "metadata": {},
     "output_type": "execute_result"
    }
   ],
   "source": [
    "month =pd.DatetimeIndex(data_weather['Date']).month\n",
    "month_mean=data_weather.groupby(month)[\"Precipitation_In\"].mean()\n",
    "month_median=data_weather.groupby(month)[\"Precipitation_In\"].median()\n",
    "\n",
    "(month_mean,month_median)"
   ]
  },
  {
   "cell_type": "markdown",
   "id": "9bc49057-0e22-45a0-850d-77bfb83463ab",
   "metadata": {},
   "source": [
    "### Q4:What’s the average number of bikes at a given bike station?"
   ]
  },
  {
   "cell_type": "code",
   "execution_count": 43,
   "id": "edc7e5ce-6cc4-43d9-ae01-7f42ee90ce60",
   "metadata": {},
   "outputs": [
    {
     "data": {
      "text/plain": [
       "17.586206896551722"
      ]
     },
     "execution_count": 43,
     "metadata": {},
     "output_type": "execute_result"
    }
   ],
   "source": [
    "avareg_bike =data_stations[\"install_dockcount\"].mean()\n",
    "avareg_bike"
   ]
  },
  {
   "cell_type": "markdown",
   "id": "ae3a0278-9505-4503-834a-87abf90e3072",
   "metadata": {},
   "source": [
    "### Q5:When a bike station is modified, is it more likely that it’ll lose bikes or gain bikes? How do you know?"
   ]
  },
  {
   "cell_type": "code",
   "execution_count": 51,
   "id": "ad06c59b-3905-4ae5-934c-bee0ee632fb2",
   "metadata": {},
   "outputs": [
    {
     "data": {
      "text/html": [
       "<div>\n",
       "<style scoped>\n",
       "    .dataframe tbody tr th:only-of-type {\n",
       "        vertical-align: middle;\n",
       "    }\n",
       "\n",
       "    .dataframe tbody tr th {\n",
       "        vertical-align: top;\n",
       "    }\n",
       "\n",
       "    .dataframe thead th {\n",
       "        text-align: right;\n",
       "    }\n",
       "</style>\n",
       "<table border=\"1\" class=\"dataframe\">\n",
       "  <thead>\n",
       "    <tr style=\"text-align: right;\">\n",
       "      <th></th>\n",
       "      <th>modification_date</th>\n",
       "      <th>install_dockcount</th>\n",
       "      <th>current_dockcount</th>\n",
       "    </tr>\n",
       "  </thead>\n",
       "  <tbody>\n",
       "    <tr>\n",
       "      <th>7</th>\n",
       "      <td>11/9/2015</td>\n",
       "      <td>20</td>\n",
       "      <td>18</td>\n",
       "    </tr>\n",
       "    <tr>\n",
       "      <th>10</th>\n",
       "      <td>8/9/2016</td>\n",
       "      <td>16</td>\n",
       "      <td>0</td>\n",
       "    </tr>\n",
       "    <tr>\n",
       "      <th>12</th>\n",
       "      <td>2/24/2015</td>\n",
       "      <td>18</td>\n",
       "      <td>20</td>\n",
       "    </tr>\n",
       "    <tr>\n",
       "      <th>17</th>\n",
       "      <td>2/24/2015</td>\n",
       "      <td>28</td>\n",
       "      <td>26</td>\n",
       "    </tr>\n",
       "    <tr>\n",
       "      <th>22</th>\n",
       "      <td>3/24/2015</td>\n",
       "      <td>30</td>\n",
       "      <td>24</td>\n",
       "    </tr>\n",
       "    <tr>\n",
       "      <th>23</th>\n",
       "      <td>3/27/2015</td>\n",
       "      <td>12</td>\n",
       "      <td>16</td>\n",
       "    </tr>\n",
       "    <tr>\n",
       "      <th>26</th>\n",
       "      <td>3/18/2016</td>\n",
       "      <td>16</td>\n",
       "      <td>0</td>\n",
       "    </tr>\n",
       "    <tr>\n",
       "      <th>31</th>\n",
       "      <td>2/24/2015</td>\n",
       "      <td>18</td>\n",
       "      <td>20</td>\n",
       "    </tr>\n",
       "    <tr>\n",
       "      <th>35</th>\n",
       "      <td>3/13/2015</td>\n",
       "      <td>12</td>\n",
       "      <td>20</td>\n",
       "    </tr>\n",
       "    <tr>\n",
       "      <th>37</th>\n",
       "      <td>2/23/2015</td>\n",
       "      <td>18</td>\n",
       "      <td>16</td>\n",
       "    </tr>\n",
       "    <tr>\n",
       "      <th>38</th>\n",
       "      <td>11/2/2015</td>\n",
       "      <td>20</td>\n",
       "      <td>0</td>\n",
       "    </tr>\n",
       "    <tr>\n",
       "      <th>39</th>\n",
       "      <td>3/4/2015</td>\n",
       "      <td>12</td>\n",
       "      <td>16</td>\n",
       "    </tr>\n",
       "    <tr>\n",
       "      <th>46</th>\n",
       "      <td>10/29/2015</td>\n",
       "      <td>16</td>\n",
       "      <td>0</td>\n",
       "    </tr>\n",
       "    <tr>\n",
       "      <th>47</th>\n",
       "      <td>2/20/2015</td>\n",
       "      <td>12</td>\n",
       "      <td>14</td>\n",
       "    </tr>\n",
       "    <tr>\n",
       "      <th>48</th>\n",
       "      <td>2/20/2015</td>\n",
       "      <td>18</td>\n",
       "      <td>16</td>\n",
       "    </tr>\n",
       "    <tr>\n",
       "      <th>49</th>\n",
       "      <td>2/20/2015</td>\n",
       "      <td>12</td>\n",
       "      <td>14</td>\n",
       "    </tr>\n",
       "    <tr>\n",
       "      <th>50</th>\n",
       "      <td>2/20/2015</td>\n",
       "      <td>20</td>\n",
       "      <td>14</td>\n",
       "    </tr>\n",
       "  </tbody>\n",
       "</table>\n",
       "</div>"
      ],
      "text/plain": [
       "   modification_date  install_dockcount  current_dockcount\n",
       "7          11/9/2015                 20                 18\n",
       "10          8/9/2016                 16                  0\n",
       "12         2/24/2015                 18                 20\n",
       "17         2/24/2015                 28                 26\n",
       "22         3/24/2015                 30                 24\n",
       "23         3/27/2015                 12                 16\n",
       "26         3/18/2016                 16                  0\n",
       "31         2/24/2015                 18                 20\n",
       "35         3/13/2015                 12                 20\n",
       "37         2/23/2015                 18                 16\n",
       "38         11/2/2015                 20                  0\n",
       "39          3/4/2015                 12                 16\n",
       "46        10/29/2015                 16                  0\n",
       "47         2/20/2015                 12                 14\n",
       "48         2/20/2015                 18                 16\n",
       "49         2/20/2015                 12                 14\n",
       "50         2/20/2015                 20                 14"
      ]
     },
     "execution_count": 51,
     "metadata": {},
     "output_type": "execute_result"
    }
   ],
   "source": [
    "new_data=data_stations[[\"modification_date\",\"install_dockcount\",\"current_dockcount\"]].dropna()\n",
    "new_data"
   ]
  },
  {
   "cell_type": "code",
   "execution_count": 77,
   "id": "a5f74814-ac21-4ab3-a1cb-17e5a19d48d5",
   "metadata": {},
   "outputs": [
    {
     "data": {
      "text/plain": [
       "-64"
      ]
     },
     "execution_count": 77,
     "metadata": {},
     "output_type": "execute_result"
    }
   ],
   "source": [
    "install = new_data['install_dockcount'].sum()\n",
    "current = new_data['current_dockcount'].sum()\n",
    "check= (current- install)\n",
    "check "
   ]
  },
  {
   "cell_type": "markdown",
   "id": "c5628231-111c-46b4-95e2-1e50cd7efd4b",
   "metadata": {},
   "source": [
    "### Q6:Come up with 3 more questions that can be answered with this data set."
   ]
  },
  {
   "cell_type": "markdown",
   "id": "b161942d-e536-444d-9077-64f9bce3e717",
   "metadata": {},
   "source": [
    "#### Q6-1 : in when day recorded most temperature in it ?"
   ]
  },
  {
   "cell_type": "code",
   "execution_count": 80,
   "id": "ae500375-3332-4f90-b88b-cbcc792803a2",
   "metadata": {},
   "outputs": [
    {
     "data": {
      "text/plain": [
       "'9/9/2015'"
      ]
     },
     "execution_count": 80,
     "metadata": {},
     "output_type": "execute_result"
    }
   ],
   "source": [
    "max1=data_weather[\"Date\"].max()\n",
    "max1"
   ]
  },
  {
   "cell_type": "markdown",
   "id": "6b9e0898-ea4a-4dfa-8e50-53411290c62d",
   "metadata": {},
   "source": [
    "#### Q6-2 : what is the names of stations where current_dockcount =12  ?"
   ]
  },
  {
   "cell_type": "code",
   "execution_count": 79,
   "id": "58c8f02f-78f8-434b-9b41-8d8856e70203",
   "metadata": {},
   "outputs": [
    {
     "data": {
      "text/plain": [
       "22    Children's Hospital / Sandpoint Way NE & 40th ...\n",
       "52                      Pier 69 / Alaskan Way & Clay St\n",
       "Name: name, dtype: object"
      ]
     },
     "execution_count": 79,
     "metadata": {},
     "output_type": "execute_result"
    }
   ],
   "source": [
    "name= data_stations[data_stations[\"current_dockcount\"]==24][\"name\"]\n",
    "name"
   ]
  },
  {
   "cell_type": "markdown",
   "id": "c6f06d71-d3f4-419e-87d4-3c0f2bf1dd20",
   "metadata": {},
   "source": [
    "#### Q6-3 : what is the gender for trip_id=433 ?"
   ]
  },
  {
   "cell_type": "code",
   "execution_count": 78,
   "id": "0725173d-cfd7-435f-8646-2131dd2bea60",
   "metadata": {},
   "outputs": [
    {
     "data": {
      "text/plain": [
       "2        Female\n",
       "50794    Female\n",
       "Name: gender, dtype: object"
      ]
     },
     "execution_count": 78,
     "metadata": {},
     "output_type": "execute_result"
    }
   ],
   "source": [
    "gender =data_trip[data_trip[\"trip_id\"]==433][\"gender\"]\n",
    "gender"
   ]
  },
  {
   "cell_type": "markdown",
   "id": "64e3c661-455e-48d0-985b-97b154785954",
   "metadata": {},
   "source": [
    "__________________________________________________________________________________________________________________________________________________"
   ]
  },
  {
   "cell_type": "markdown",
   "id": "221e07d1-a30e-498c-8b1b-c3afee61b3ae",
   "metadata": {},
   "source": [
    "## Tests "
   ]
  },
  {
   "cell_type": "code",
   "execution_count": 82,
   "id": "35eec3b7-78ae-4519-8f20-803514529829",
   "metadata": {},
   "outputs": [
    {
     "name": "stdout",
     "output_type": "stream",
     "text": [
      "Success!!!\n"
     ]
    }
   ],
   "source": [
    "def test():\n",
    "\n",
    "    def assert_equal(actual,expected):\n",
    "        assert actual == expected, f\"Expected {expected} but got {actual}\"\n",
    "\n",
    "    assert_equal(average_trip, 1178.2956753399776)\n",
    "    assert_equal(n,34)\n",
    "    assert_equal(avareg_bike, 17.586206896551722)\n",
    "    assert_equal(check ,-64)\n",
    "    assert_equal(max1,'9/9/2015')\n",
    "    print(\"Success!!!\")\n",
    "\n",
    "test()"
   ]
  },
  {
   "cell_type": "code",
   "execution_count": null,
   "id": "0bc7ec06-61c0-47c4-9564-925c6ac976c1",
   "metadata": {},
   "outputs": [],
   "source": []
  }
 ],
 "metadata": {
  "kernelspec": {
   "display_name": "Python 3",
   "language": "python",
   "name": "python3"
  },
  "language_info": {
   "codemirror_mode": {
    "name": "ipython",
    "version": 3
   },
   "file_extension": ".py",
   "mimetype": "text/x-python",
   "name": "python",
   "nbconvert_exporter": "python",
   "pygments_lexer": "ipython3",
   "version": "3.9.4"
  }
 },
 "nbformat": 4,
 "nbformat_minor": 5
}
